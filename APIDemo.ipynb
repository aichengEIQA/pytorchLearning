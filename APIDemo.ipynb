{
 "cells": [
  {
   "cell_type": "code",
   "execution_count": 1,
   "id": "97a395a8",
   "metadata": {},
   "outputs": [],
   "source": [
    "import os\n",
    "import numpy as np\n",
    "import torch\n",
    "from PIL import Image\n",
    "\n",
    "import torchvision\n",
    "from torchvision.models.detection.faster_rcnn import FastRCNNPredictor\n",
    "from torchvision.models.detection.mask_rcnn import MaskRCNNPredictor\n",
    "\n",
    "from engine import train_one_epoch, evaluate\n",
    "import utils\n",
    "import transforms as T"
   ]
  },
  {
   "cell_type": "code",
   "execution_count": 2,
   "id": "86ea45e3",
   "metadata": {},
   "outputs": [
    {
     "name": "stdout",
     "output_type": "stream",
     "text": [
      "<module 'posixpath' from '/Users/fuchang.zfc/anaconda3/envs/deeplearning/lib/python3.10/posixpath.py'>\n"
     ]
    }
   ],
   "source": [
    "print(os.path)"
   ]
  },
  {
   "cell_type": "code",
   "execution_count": 3,
   "id": "df8e3309",
   "metadata": {},
   "outputs": [
    {
     "name": "stdout",
     "output_type": "stream",
     "text": [
      "PennFudanPed/PNGImages\n"
     ]
    }
   ],
   "source": [
    "print(os.path.join('PennFudanPed',\"PNGImages\"))\n"
   ]
  },
  {
   "cell_type": "code",
   "execution_count": 6,
   "id": "b8caf80e",
   "metadata": {},
   "outputs": [
    {
     "name": "stdout",
     "output_type": "stream",
     "text": [
      "PennFudanPed/PNGImages\n"
     ]
    }
   ],
   "source": [
    "print(os.path.join('PennFudanPed',\"PNGImages\"))"
   ]
  },
  {
   "cell_type": "code",
   "execution_count": 11,
   "id": "530213cb",
   "metadata": {},
   "outputs": [
    {
     "data": {
      "text/plain": [
       "['FudanPed00001.png',\n",
       " 'FudanPed00002.png',\n",
       " 'FudanPed00003.png',\n",
       " 'FudanPed00004.png',\n",
       " 'FudanPed00005.png',\n",
       " 'FudanPed00006.png',\n",
       " 'FudanPed00007.png',\n",
       " 'FudanPed00008.png',\n",
       " 'FudanPed00009.png',\n",
       " 'FudanPed00010.png',\n",
       " 'FudanPed00011.png',\n",
       " 'FudanPed00012.png',\n",
       " 'FudanPed00013.png',\n",
       " 'FudanPed00014.png',\n",
       " 'FudanPed00015.png',\n",
       " 'FudanPed00016.png',\n",
       " 'FudanPed00017.png',\n",
       " 'FudanPed00018.png',\n",
       " 'FudanPed00019.png',\n",
       " 'FudanPed00020.png',\n",
       " 'FudanPed00021.png',\n",
       " 'FudanPed00022.png',\n",
       " 'FudanPed00023.png',\n",
       " 'FudanPed00024.png',\n",
       " 'FudanPed00025.png',\n",
       " 'FudanPed00026.png',\n",
       " 'FudanPed00027.png',\n",
       " 'FudanPed00028.png',\n",
       " 'FudanPed00029.png',\n",
       " 'FudanPed00030.png',\n",
       " 'FudanPed00031.png',\n",
       " 'FudanPed00032.png',\n",
       " 'FudanPed00033.png',\n",
       " 'FudanPed00034.png',\n",
       " 'FudanPed00035.png',\n",
       " 'FudanPed00036.png',\n",
       " 'FudanPed00037.png',\n",
       " 'FudanPed00038.png',\n",
       " 'FudanPed00039.png',\n",
       " 'FudanPed00040.png',\n",
       " 'FudanPed00041.png',\n",
       " 'FudanPed00042.png',\n",
       " 'FudanPed00043.png',\n",
       " 'FudanPed00044.png',\n",
       " 'FudanPed00045.png',\n",
       " 'FudanPed00046.png',\n",
       " 'FudanPed00047.png',\n",
       " 'FudanPed00048.png',\n",
       " 'FudanPed00049.png',\n",
       " 'FudanPed00050.png',\n",
       " 'FudanPed00051.png',\n",
       " 'FudanPed00052.png',\n",
       " 'FudanPed00053.png',\n",
       " 'FudanPed00054.png',\n",
       " 'FudanPed00055.png',\n",
       " 'FudanPed00056.png',\n",
       " 'FudanPed00057.png',\n",
       " 'FudanPed00058.png',\n",
       " 'FudanPed00059.png',\n",
       " 'FudanPed00060.png',\n",
       " 'FudanPed00061.png',\n",
       " 'FudanPed00062.png',\n",
       " 'FudanPed00063.png',\n",
       " 'FudanPed00064.png',\n",
       " 'FudanPed00065.png',\n",
       " 'FudanPed00066.png',\n",
       " 'FudanPed00067.png',\n",
       " 'FudanPed00068.png',\n",
       " 'FudanPed00069.png',\n",
       " 'FudanPed00070.png',\n",
       " 'FudanPed00071.png',\n",
       " 'FudanPed00072.png',\n",
       " 'FudanPed00073.png',\n",
       " 'FudanPed00074.png',\n",
       " 'PennPed00001.png',\n",
       " 'PennPed00002.png',\n",
       " 'PennPed00003.png',\n",
       " 'PennPed00004.png',\n",
       " 'PennPed00005.png',\n",
       " 'PennPed00006.png',\n",
       " 'PennPed00007.png',\n",
       " 'PennPed00008.png',\n",
       " 'PennPed00009.png',\n",
       " 'PennPed00010.png',\n",
       " 'PennPed00011.png',\n",
       " 'PennPed00012.png',\n",
       " 'PennPed00013.png',\n",
       " 'PennPed00014.png',\n",
       " 'PennPed00015.png',\n",
       " 'PennPed00016.png',\n",
       " 'PennPed00017.png',\n",
       " 'PennPed00018.png',\n",
       " 'PennPed00019.png',\n",
       " 'PennPed00020.png',\n",
       " 'PennPed00021.png',\n",
       " 'PennPed00022.png',\n",
       " 'PennPed00023.png',\n",
       " 'PennPed00024.png',\n",
       " 'PennPed00025.png',\n",
       " 'PennPed00026.png',\n",
       " 'PennPed00027.png',\n",
       " 'PennPed00028.png',\n",
       " 'PennPed00029.png',\n",
       " 'PennPed00030.png',\n",
       " 'PennPed00031.png',\n",
       " 'PennPed00032.png',\n",
       " 'PennPed00033.png',\n",
       " 'PennPed00034.png',\n",
       " 'PennPed00035.png',\n",
       " 'PennPed00036.png',\n",
       " 'PennPed00037.png',\n",
       " 'PennPed00038.png',\n",
       " 'PennPed00039.png',\n",
       " 'PennPed00040.png',\n",
       " 'PennPed00041.png',\n",
       " 'PennPed00042.png',\n",
       " 'PennPed00043.png',\n",
       " 'PennPed00044.png',\n",
       " 'PennPed00045.png',\n",
       " 'PennPed00046.png',\n",
       " 'PennPed00047.png',\n",
       " 'PennPed00048.png',\n",
       " 'PennPed00049.png',\n",
       " 'PennPed00050.png',\n",
       " 'PennPed00051.png',\n",
       " 'PennPed00052.png',\n",
       " 'PennPed00053.png',\n",
       " 'PennPed00054.png',\n",
       " 'PennPed00055.png',\n",
       " 'PennPed00056.png',\n",
       " 'PennPed00057.png',\n",
       " 'PennPed00058.png',\n",
       " 'PennPed00059.png',\n",
       " 'PennPed00060.png',\n",
       " 'PennPed00061.png',\n",
       " 'PennPed00062.png',\n",
       " 'PennPed00063.png',\n",
       " 'PennPed00064.png',\n",
       " 'PennPed00065.png',\n",
       " 'PennPed00066.png',\n",
       " 'PennPed00067.png',\n",
       " 'PennPed00068.png',\n",
       " 'PennPed00069.png',\n",
       " 'PennPed00070.png',\n",
       " 'PennPed00071.png',\n",
       " 'PennPed00072.png',\n",
       " 'PennPed00073.png',\n",
       " 'PennPed00074.png',\n",
       " 'PennPed00075.png',\n",
       " 'PennPed00076.png',\n",
       " 'PennPed00077.png',\n",
       " 'PennPed00078.png',\n",
       " 'PennPed00079.png',\n",
       " 'PennPed00080.png',\n",
       " 'PennPed00081.png',\n",
       " 'PennPed00082.png',\n",
       " 'PennPed00083.png',\n",
       " 'PennPed00084.png',\n",
       " 'PennPed00085.png',\n",
       " 'PennPed00086.png',\n",
       " 'PennPed00087.png',\n",
       " 'PennPed00088.png',\n",
       " 'PennPed00089.png',\n",
       " 'PennPed00090.png',\n",
       " 'PennPed00091.png',\n",
       " 'PennPed00092.png',\n",
       " 'PennPed00093.png',\n",
       " 'PennPed00094.png',\n",
       " 'PennPed00095.png',\n",
       " 'PennPed00096.png']"
      ]
     },
     "execution_count": 11,
     "metadata": {},
     "output_type": "execute_result"
    }
   ],
   "source": [
    "sorted(os.listdir(\"PennFudanPed/PNGImages\"))"
   ]
  },
  {
   "cell_type": "code",
   "execution_count": 14,
   "id": "3356b5e7",
   "metadata": {},
   "outputs": [
    {
     "name": "stdout",
     "output_type": "stream",
     "text": [
      "<PIL.Image.Image image mode=RGB size=559x536 at 0x7FD1A8F10310>\n"
     ]
    }
   ],
   "source": [
    "print(Image.open(\"PennFudanPed/PNGImages/FudanPed00001.png\").convert(\"RGB\"))"
   ]
  },
  {
   "cell_type": "code",
   "execution_count": 15,
   "id": "0cfd4ce7",
   "metadata": {},
   "outputs": [
    {
     "name": "stdout",
     "output_type": "stream",
     "text": [
      "<PIL.PngImagePlugin.PngImageFile image mode=RGB size=559x536 at 0x7FD1B96197E0>\n"
     ]
    }
   ],
   "source": [
    "print(Image.open(\"PennFudanPed/PNGImages/FudanPed00001.png\"))"
   ]
  },
  {
   "cell_type": "code",
   "execution_count": 17,
   "id": "63702acf",
   "metadata": {},
   "outputs": [
    {
     "data": {
      "text/plain": [
       "array([[0, 0, 0, ..., 0, 0, 0],\n",
       "       [0, 0, 0, ..., 0, 0, 0],\n",
       "       [0, 0, 0, ..., 0, 0, 0],\n",
       "       ...,\n",
       "       [0, 0, 0, ..., 0, 0, 0],\n",
       "       [0, 0, 0, ..., 0, 0, 0],\n",
       "       [0, 0, 0, ..., 0, 0, 0]], dtype=uint8)"
      ]
     },
     "execution_count": 17,
     "metadata": {},
     "output_type": "execute_result"
    }
   ],
   "source": [
    "np.array(Image.open(\"PennFudanPed/PedMasks/FudanPed00001_mask.png\"))"
   ]
  },
  {
   "cell_type": "code",
   "execution_count": 21,
   "id": "01cb7c3c",
   "metadata": {},
   "outputs": [
    {
     "data": {
      "text/plain": [
       "array([0, 1, 2], dtype=uint8)"
      ]
     },
     "execution_count": 21,
     "metadata": {},
     "output_type": "execute_result"
    }
   ],
   "source": [
    "np.unique(Image.open(\"PennFudanPed/PedMasks/FudanPed00001_mask.png\"))"
   ]
  },
  {
   "cell_type": "code",
   "execution_count": 24,
   "id": "27ea2b6b",
   "metadata": {},
   "outputs": [
    {
     "data": {
      "text/plain": [
       "array([[[0]],\n",
       "\n",
       "       [[1]],\n",
       "\n",
       "       [[2]]], dtype=uint8)"
      ]
     },
     "execution_count": 24,
     "metadata": {},
     "output_type": "execute_result"
    }
   ],
   "source": [
    "np.unique(Image.open(\"PennFudanPed/PedMasks/FudanPed00001_mask.png\"))[:,None, None]"
   ]
  },
  {
   "cell_type": "code",
   "execution_count": 32,
   "id": "3860c5c5",
   "metadata": {},
   "outputs": [
    {
     "name": "stdout",
     "output_type": "stream",
     "text": [
      "(array([0]),)\n"
     ]
    }
   ],
   "source": [
    "arr = np.array([1,2,3,4,2,1])\n",
    "print(np.where(2))"
   ]
  },
  {
   "cell_type": "code",
   "execution_count": 33,
   "id": "65e3227a",
   "metadata": {},
   "outputs": [
    {
     "name": "stdout",
     "output_type": "stream",
     "text": [
      "tensor([[0., 0., 0., 0.],\n",
      "        [1., 1., 1., 1.]])\n"
     ]
    }
   ],
   "source": [
    "res = torch.as_tensor([[0,0,0,0], [1,1,1,1]], dtype=torch.float32)\n",
    "print(res)"
   ]
  },
  {
   "cell_type": "code",
   "execution_count": 35,
   "id": "a5cbfa11",
   "metadata": {},
   "outputs": [
    {
     "name": "stdout",
     "output_type": "stream",
     "text": [
      "tensor([1, 1, 1, 1, 1, 1, 1, 1, 1, 1])\n"
     ]
    }
   ],
   "source": [
    "print(torch.ones((10,), dtype=torch.int64))"
   ]
  },
  {
   "cell_type": "code",
   "execution_count": 43,
   "id": "b7b42c79",
   "metadata": {},
   "outputs": [
    {
     "name": "stdout",
     "output_type": "stream",
     "text": [
      "[32, 48, 87, 71, 12, 95, 74, 38, 54, 53, 77, 21, 86, 79, 18, 50, 75, 63, 9, 43, 25, 73, 93, 36, 15, 11, 16, 52, 22, 78, 37, 98, 81, 99, 24, 90, 19, 10, 26, 7, 1, 46, 2, 44, 31, 96, 76, 69, 61, 28]\n",
      "[6, 27, 85, 80, 17, 45, 13, 56, 5, 33, 55, 3, 82, 23, 41, 8, 59, 84, 67, 39, 35, 40, 34, 49, 58, 30, 83, 62, 97, 94, 29, 51, 88, 60, 91, 68, 0, 47, 64, 89, 65, 57, 4, 14, 20, 42, 70, 66, 92, 72]\n"
     ]
    }
   ],
   "source": [
    "indices = torch.randperm(100).tolist()\n",
    "print(indices[:-50])\n",
    "print(indices[-50:])"
   ]
  },
  {
   "cell_type": "code",
   "execution_count": null,
   "id": "e4da7f07",
   "metadata": {},
   "outputs": [],
   "source": []
  }
 ],
 "metadata": {
  "kernelspec": {
   "display_name": "Python 3 (ipykernel)",
   "language": "python",
   "name": "python3"
  },
  "language_info": {
   "codemirror_mode": {
    "name": "ipython",
    "version": 3
   },
   "file_extension": ".py",
   "mimetype": "text/x-python",
   "name": "python",
   "nbconvert_exporter": "python",
   "pygments_lexer": "ipython3",
   "version": "3.10.10"
  }
 },
 "nbformat": 4,
 "nbformat_minor": 5
}
